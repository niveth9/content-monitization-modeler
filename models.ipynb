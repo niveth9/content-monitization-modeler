{
 "cells": [
  {
   "cell_type": "code",
   "execution_count": 1,
   "id": "50f1bbf3",
   "metadata": {},
   "outputs": [],
   "source": [
    "import pandas as pd"
   ]
  },
  {
   "cell_type": "code",
   "execution_count": 2,
   "id": "af8dc55d",
   "metadata": {},
   "outputs": [],
   "source": [
    "from sklearn.model_selection import train_test_split # Importing train_test_split for splitting data into training and testing sets\n",
    "from sklearn.preprocessing import StandardScaler, RobustScaler, MinMaxScaler, OneHotEncoder\n",
    "from sklearn.preprocessing import PolynomialFeatures"
   ]
  },
  {
   "cell_type": "code",
   "execution_count": 3,
   "id": "e45851b0",
   "metadata": {},
   "outputs": [],
   "source": [
    "from sklearn.compose import ColumnTransformer\n",
    "from sklearn.pipeline import Pipeline"
   ]
  },
  {
   "cell_type": "code",
   "execution_count": 4,
   "id": "1b9b34c4",
   "metadata": {},
   "outputs": [],
   "source": [
    "from xgboost import XGBRegressor"
   ]
  },
  {
   "cell_type": "code",
   "execution_count": 5,
   "id": "99ba8dc9",
   "metadata": {},
   "outputs": [],
   "source": [
    "from sklearn.linear_model import LinearRegression,Lasso, Ridge, ElasticNet\n",
    "from sklearn.ensemble import RandomForestRegressor, GradientBoostingRegressor\n",
    "from sklearn.svm import SVR\n",
    "from sklearn.metrics import mean_squared_error, mean_absolute_error, r2_score"
   ]
  },
  {
   "cell_type": "code",
   "execution_count": 6,
   "id": "317ac8e3",
   "metadata": {},
   "outputs": [],
   "source": [
    "df=pd.read_csv(r\"C:/Users/KIRUBA/OneDrive/Desktop/youtube/youtube_ad_revenue_dataset.csv\")\n"
   ]
  },
  {
   "cell_type": "code",
   "execution_count": 7,
   "id": "b3959a36",
   "metadata": {},
   "outputs": [
    {
     "data": {
      "text/html": [
       "<div>\n",
       "<style scoped>\n",
       "    .dataframe tbody tr th:only-of-type {\n",
       "        vertical-align: middle;\n",
       "    }\n",
       "\n",
       "    .dataframe tbody tr th {\n",
       "        vertical-align: top;\n",
       "    }\n",
       "\n",
       "    .dataframe thead th {\n",
       "        text-align: right;\n",
       "    }\n",
       "</style>\n",
       "<table border=\"1\" class=\"dataframe\">\n",
       "  <thead>\n",
       "    <tr style=\"text-align: right;\">\n",
       "      <th></th>\n",
       "      <th>views</th>\n",
       "      <th>likes</th>\n",
       "      <th>comments</th>\n",
       "      <th>watch_time_minutes</th>\n",
       "      <th>subscribers</th>\n",
       "      <th>category</th>\n",
       "      <th>device</th>\n",
       "      <th>country</th>\n",
       "      <th>engagement_rate</th>\n",
       "      <th>ad_revenue_usd</th>\n",
       "    </tr>\n",
       "  </thead>\n",
       "  <tbody>\n",
       "    <tr>\n",
       "      <th>0</th>\n",
       "      <td>9936</td>\n",
       "      <td>1221.0</td>\n",
       "      <td>320.0</td>\n",
       "      <td>26497.214184</td>\n",
       "      <td>228086</td>\n",
       "      <td>Entertainment</td>\n",
       "      <td>TV</td>\n",
       "      <td>IN</td>\n",
       "      <td>0.155093</td>\n",
       "      <td>203.178237</td>\n",
       "    </tr>\n",
       "    <tr>\n",
       "      <th>1</th>\n",
       "      <td>10017</td>\n",
       "      <td>642.0</td>\n",
       "      <td>346.0</td>\n",
       "      <td>15209.747445</td>\n",
       "      <td>736015</td>\n",
       "      <td>Gaming</td>\n",
       "      <td>Tablet</td>\n",
       "      <td>CA</td>\n",
       "      <td>0.098632</td>\n",
       "      <td>140.880508</td>\n",
       "    </tr>\n",
       "    <tr>\n",
       "      <th>2</th>\n",
       "      <td>10097</td>\n",
       "      <td>1979.0</td>\n",
       "      <td>187.0</td>\n",
       "      <td>57332.658498</td>\n",
       "      <td>240534</td>\n",
       "      <td>Education</td>\n",
       "      <td>TV</td>\n",
       "      <td>CA</td>\n",
       "      <td>0.214519</td>\n",
       "      <td>360.134008</td>\n",
       "    </tr>\n",
       "    <tr>\n",
       "      <th>3</th>\n",
       "      <td>10034</td>\n",
       "      <td>1191.0</td>\n",
       "      <td>242.0</td>\n",
       "      <td>31334.517771</td>\n",
       "      <td>434482</td>\n",
       "      <td>Entertainment</td>\n",
       "      <td>Mobile</td>\n",
       "      <td>UK</td>\n",
       "      <td>0.142814</td>\n",
       "      <td>224.638261</td>\n",
       "    </tr>\n",
       "    <tr>\n",
       "      <th>4</th>\n",
       "      <td>9889</td>\n",
       "      <td>1858.0</td>\n",
       "      <td>477.0</td>\n",
       "      <td>15665.666434</td>\n",
       "      <td>42030</td>\n",
       "      <td>Education</td>\n",
       "      <td>Mobile</td>\n",
       "      <td>CA</td>\n",
       "      <td>0.236121</td>\n",
       "      <td>165.514388</td>\n",
       "    </tr>\n",
       "  </tbody>\n",
       "</table>\n",
       "</div>"
      ],
      "text/plain": [
       "   views   likes  comments  watch_time_minutes  subscribers       category  \\\n",
       "0   9936  1221.0     320.0        26497.214184       228086  Entertainment   \n",
       "1  10017   642.0     346.0        15209.747445       736015         Gaming   \n",
       "2  10097  1979.0     187.0        57332.658498       240534      Education   \n",
       "3  10034  1191.0     242.0        31334.517771       434482  Entertainment   \n",
       "4   9889  1858.0     477.0        15665.666434        42030      Education   \n",
       "\n",
       "   device country  engagement_rate  ad_revenue_usd  \n",
       "0      TV      IN         0.155093      203.178237  \n",
       "1  Tablet      CA         0.098632      140.880508  \n",
       "2      TV      CA         0.214519      360.134008  \n",
       "3  Mobile      UK         0.142814      224.638261  \n",
       "4  Mobile      CA         0.236121      165.514388  "
      ]
     },
     "execution_count": 7,
     "metadata": {},
     "output_type": "execute_result"
    }
   ],
   "source": [
    "df.head(5)"
   ]
  },
  {
   "cell_type": "code",
   "execution_count": 8,
   "id": "38cc4b69",
   "metadata": {},
   "outputs": [
    {
     "data": {
      "text/html": [
       "<div>\n",
       "<style scoped>\n",
       "    .dataframe tbody tr th:only-of-type {\n",
       "        vertical-align: middle;\n",
       "    }\n",
       "\n",
       "    .dataframe tbody tr th {\n",
       "        vertical-align: top;\n",
       "    }\n",
       "\n",
       "    .dataframe thead th {\n",
       "        text-align: right;\n",
       "    }\n",
       "</style>\n",
       "<table border=\"1\" class=\"dataframe\">\n",
       "  <thead>\n",
       "    <tr style=\"text-align: right;\">\n",
       "      <th></th>\n",
       "      <th>views</th>\n",
       "      <th>likes</th>\n",
       "      <th>comments</th>\n",
       "      <th>watch_time_minutes</th>\n",
       "      <th>subscribers</th>\n",
       "      <th>engagement_rate</th>\n",
       "      <th>ad_revenue_usd</th>\n",
       "    </tr>\n",
       "  </thead>\n",
       "  <tbody>\n",
       "    <tr>\n",
       "      <th>count</th>\n",
       "      <td>120000.000000</td>\n",
       "      <td>120000.000000</td>\n",
       "      <td>120000.000000</td>\n",
       "      <td>120000.000000</td>\n",
       "      <td>120000.000000</td>\n",
       "      <td>120000.000000</td>\n",
       "      <td>120000.000000</td>\n",
       "    </tr>\n",
       "    <tr>\n",
       "      <th>mean</th>\n",
       "      <td>9999.832333</td>\n",
       "      <td>1044.605792</td>\n",
       "      <td>260.632350</td>\n",
       "      <td>37539.823485</td>\n",
       "      <td>502291.970050</td>\n",
       "      <td>0.130530</td>\n",
       "      <td>252.711361</td>\n",
       "    </tr>\n",
       "    <tr>\n",
       "      <th>std</th>\n",
       "      <td>99.918405</td>\n",
       "      <td>560.218383</td>\n",
       "      <td>139.884826</td>\n",
       "      <td>12658.957710</td>\n",
       "      <td>288364.967705</td>\n",
       "      <td>0.057661</td>\n",
       "      <td>61.954125</td>\n",
       "    </tr>\n",
       "    <tr>\n",
       "      <th>min</th>\n",
       "      <td>9521.000000</td>\n",
       "      <td>0.000000</td>\n",
       "      <td>0.000000</td>\n",
       "      <td>14659.105562</td>\n",
       "      <td>1005.000000</td>\n",
       "      <td>0.000000</td>\n",
       "      <td>126.590603</td>\n",
       "    </tr>\n",
       "    <tr>\n",
       "      <th>25%</th>\n",
       "      <td>9933.000000</td>\n",
       "      <td>578.000000</td>\n",
       "      <td>145.000000</td>\n",
       "      <td>26949.914101</td>\n",
       "      <td>252641.500000</td>\n",
       "      <td>0.084071</td>\n",
       "      <td>199.892158</td>\n",
       "    </tr>\n",
       "    <tr>\n",
       "      <th>50%</th>\n",
       "      <td>10000.000000</td>\n",
       "      <td>1054.000000</td>\n",
       "      <td>262.000000</td>\n",
       "      <td>37522.221205</td>\n",
       "      <td>503633.500000</td>\n",
       "      <td>0.131243</td>\n",
       "      <td>252.678607</td>\n",
       "    </tr>\n",
       "    <tr>\n",
       "      <th>75%</th>\n",
       "      <td>10067.000000</td>\n",
       "      <td>1524.000000</td>\n",
       "      <td>381.000000</td>\n",
       "      <td>48209.880123</td>\n",
       "      <td>752386.250000</td>\n",
       "      <td>0.178496</td>\n",
       "      <td>305.613497</td>\n",
       "    </tr>\n",
       "    <tr>\n",
       "      <th>max</th>\n",
       "      <td>10468.000000</td>\n",
       "      <td>2061.000000</td>\n",
       "      <td>515.000000</td>\n",
       "      <td>61557.670089</td>\n",
       "      <td>999997.000000</td>\n",
       "      <td>0.249554</td>\n",
       "      <td>382.768254</td>\n",
       "    </tr>\n",
       "  </tbody>\n",
       "</table>\n",
       "</div>"
      ],
      "text/plain": [
       "               views          likes       comments  watch_time_minutes  \\\n",
       "count  120000.000000  120000.000000  120000.000000       120000.000000   \n",
       "mean     9999.832333    1044.605792     260.632350        37539.823485   \n",
       "std        99.918405     560.218383     139.884826        12658.957710   \n",
       "min      9521.000000       0.000000       0.000000        14659.105562   \n",
       "25%      9933.000000     578.000000     145.000000        26949.914101   \n",
       "50%     10000.000000    1054.000000     262.000000        37522.221205   \n",
       "75%     10067.000000    1524.000000     381.000000        48209.880123   \n",
       "max     10468.000000    2061.000000     515.000000        61557.670089   \n",
       "\n",
       "         subscribers  engagement_rate  ad_revenue_usd  \n",
       "count  120000.000000    120000.000000   120000.000000  \n",
       "mean   502291.970050         0.130530      252.711361  \n",
       "std    288364.967705         0.057661       61.954125  \n",
       "min      1005.000000         0.000000      126.590603  \n",
       "25%    252641.500000         0.084071      199.892158  \n",
       "50%    503633.500000         0.131243      252.678607  \n",
       "75%    752386.250000         0.178496      305.613497  \n",
       "max    999997.000000         0.249554      382.768254  "
      ]
     },
     "execution_count": 8,
     "metadata": {},
     "output_type": "execute_result"
    }
   ],
   "source": [
    "df.describe()"
   ]
  },
  {
   "cell_type": "markdown",
   "id": "bc852054",
   "metadata": {},
   "source": [
    "#####  Encode Categorical Variables"
   ]
  },
  {
   "cell_type": "code",
   "execution_count": 9,
   "id": "d41e51fe",
   "metadata": {},
   "outputs": [
    {
     "data": {
      "text/plain": [
       "array([[1., 0., 0., ..., 1., 0., 0.],\n",
       "       [0., 1., 0., ..., 0., 0., 0.],\n",
       "       [0., 0., 0., ..., 0., 0., 0.],\n",
       "       ...,\n",
       "       [0., 0., 0., ..., 0., 0., 0.],\n",
       "       [0., 0., 0., ..., 0., 1., 0.],\n",
       "       [0., 0., 0., ..., 0., 0., 0.]], shape=(120000, 13))"
      ]
     },
     "execution_count": 9,
     "metadata": {},
     "output_type": "execute_result"
    }
   ],
   "source": [
    "# 1. Encode categorical features\n",
    "encoder_onehot = OneHotEncoder(drop='first', sparse_output=False) # drop='first' to avoid dummy variable trap / # or sparse=True for large data\n",
    "encoder_onehot = encoder_onehot.fit_transform(df[['category', 'device', 'country']]) # fit and transform categorical columns\n",
    "encoder_onehot"
   ]
  },
  {
   "cell_type": "code",
   "execution_count": 10,
   "id": "d8d4f442",
   "metadata": {},
   "outputs": [],
   "source": [
    "# 2. Define features and target\n",
    "X=df.drop('ad_revenue_usd',axis=1) # independent variable / Features / X\n",
    "Y=df['ad_revenue_usd'] # dependent variable / Target/Label / y"
   ]
  },
  {
   "cell_type": "code",
   "execution_count": 11,
   "id": "632a919f",
   "metadata": {},
   "outputs": [],
   "source": [
    "# 3. Split data\n",
    "X_train, X_test, y_train, y_test = train_test_split(X, Y, test_size=0.3, random_state=42)"
   ]
  },
  {
   "cell_type": "markdown",
   "id": "048f9b5a",
   "metadata": {},
   "source": [
    "### Feature Scaling"
   ]
  },
  {
   "cell_type": "code",
   "execution_count": 12,
   "id": "006c1ae0",
   "metadata": {},
   "outputs": [],
   "source": [
    "# Define columns based on scaling strategy\n",
    "minmax_cols = [\"watch_time_minutes\"]        # wide range → MinMaxScaler\n",
    "robust_cols = [\"subscribers\"]               # heavy outliers → RobustScaler\n",
    "standard_cols = [\"likes\", \"comments\"]       # normal-like → StandardScaler\n",
    "# engagement_rate already small (0–0.25), no scaling needed\n",
    "\n",
    "# Initialize scalers\n",
    "scaler_minmax = MinMaxScaler()\n",
    "scaler_robust = RobustScaler()\n",
    "scaler_standard = StandardScaler()\n",
    "\n",
    "# Work on copies (avoid modifying original data)\n",
    "X_train_scaled = X_train.copy()\n",
    "X_test_scaled = X_test.copy()\n",
    "\n",
    "# Apply RobustScaler\n",
    "X_train_scaled[robust_cols] = scaler_robust.fit_transform(X_train[robust_cols])\n",
    "X_test_scaled[robust_cols] = scaler_robust.transform(X_test[robust_cols])\n",
    "\n",
    "# Apply MinMaxScaler\n",
    "X_train_scaled[minmax_cols] = scaler_minmax.fit_transform(X_train[minmax_cols])\n",
    "X_test_scaled[minmax_cols] = scaler_minmax.transform(X_test[minmax_cols])\n",
    "\n",
    "# Apply StandardScaler\n",
    "X_train_scaled[standard_cols] = scaler_standard.fit_transform(X_train[standard_cols])\n",
    "X_test_scaled[standard_cols] = scaler_standard.transform(X_test[standard_cols])\n",
    "\n",
    "# Identify remaining columns\n",
    "numeric_cols = X.select_dtypes(include=['float64', 'int64']).columns.difference(\n",
    "    robust_cols + minmax_cols + standard_cols\n",
    ")\n",
    "categorical_cols = X.select_dtypes(include=['object']).columns"
   ]
  },
  {
   "cell_type": "markdown",
   "id": "03e84a96",
   "metadata": {},
   "source": [
    "#### Preprocessing with ColumnTransformer"
   ]
  },
  {
   "cell_type": "code",
   "execution_count": 13,
   "id": "3370a43b",
   "metadata": {},
   "outputs": [],
   "source": [
    "preprocessor = ColumnTransformer(\n",
    "    transformers=[\n",
    "        ('num_standard', StandardScaler(), numeric_cols),\n",
    "        ('num_robust', RobustScaler(), robust_cols),\n",
    "        ('num_minmax', MinMaxScaler(), minmax_cols),\n",
    "        ('cat', OneHotEncoder(drop='first', handle_unknown='ignore'), categorical_cols)\n",
    "    ]\n",
    ")"
   ]
  },
  {
   "cell_type": "markdown",
   "id": "5cde29a6",
   "metadata": {},
   "source": [
    "### LinearRegression"
   ]
  },
  {
   "cell_type": "code",
   "execution_count": 14,
   "id": "b001863a",
   "metadata": {},
   "outputs": [
    {
     "name": "stdout",
     "output_type": "stream",
     "text": [
      "LinearRegression Evaluation\n",
      "Train r2_score: 0.9457120317378575\n",
      "Test r2_score: 0.9481905947210313\n",
      "------------------------------\n",
      "Train mean_squared_error: 208.1174516744817\n",
      "Test mean_squared_error: 199.42345864002453\n",
      "------------------------------\n",
      "Train mean_absolute_error: 4.967561983000418\n",
      "Test mean_absolute_error: 4.811127662194396\n",
      "------------------------------\n"
     ]
    }
   ],
   "source": [
    "pipe_lr = Pipeline(steps=[\n",
    "    ('preprocessor', preprocessor),\n",
    "    ('model', LinearRegression())\n",
    "])\n",
    "\n",
    "pipe_lr.fit(X_train, y_train)\n",
    "\n",
    "y_train_pred_lr = pipe_lr.predict(X_train)\n",
    "y_test_pred_lr = pipe_lr.predict(X_test)  \n",
    "\n",
    "print('LinearRegression Evaluation')\n",
    "print('Train r2_score:',r2_score(y_train,y_train_pred_lr))\n",
    "print('Test r2_score:',r2_score(y_test,y_test_pred_lr))\n",
    "print('---'*10)\n",
    "print('Train mean_squared_error:',mean_squared_error(y_train,y_train_pred_lr))\n",
    "print('Test mean_squared_error:',mean_squared_error(y_test,y_test_pred_lr))\n",
    "print('---'*10)\n",
    "print('Train mean_absolute_error:',mean_absolute_error(y_train,y_train_pred_lr))\n",
    "print('Test mean_absolute_error:',mean_absolute_error(y_test,y_test_pred_lr))\n",
    "print('---'*10)"
   ]
  },
  {
   "cell_type": "markdown",
   "id": "424b7bb9",
   "metadata": {},
   "source": [
    "###polynomial"
   ]
  },
  {
   "cell_type": "code",
   "execution_count": 15,
   "id": "243a1634",
   "metadata": {},
   "outputs": [
    {
     "name": "stdout",
     "output_type": "stream",
     "text": [
      "PolynomialFeatures Evaluation\n",
      "Train r2_score: 0.9468890561222526\n",
      "Test r2_score: 0.9492270921938113\n",
      "------------------------------\n",
      "Train mean_squared_error: 203.60523058239343\n",
      "Test mean_squared_error: 195.43379865878288\n",
      "------------------------------\n",
      "Train mean_absolute_error: 4.767458900923363\n",
      "Test mean_absolute_error: 4.629087664099878\n",
      "------------------------------\n"
     ]
    }
   ],
   "source": [
    "from sklearn.feature_selection import SelectKBest, f_regression\n",
    "\n",
    "pipe_lr_poly = Pipeline(steps=[\n",
    "    ('preprocessor', preprocessor),\n",
    "    ('poly', PolynomialFeatures(degree=2, include_bias=False)),\n",
    "    ('select', SelectKBest(score_func=f_regression, k=100)),  # keep best 100 features\n",
    "    ('model', LinearRegression())\n",
    "])\n",
    "\n",
    "pipe_lr_poly.fit(X_train, y_train)\n",
    "\n",
    "y_train_pred_lr = pipe_lr_poly.predict(X_train)\n",
    "y_test_pred_lr = pipe_lr_poly.predict(X_test)  \n",
    "\n",
    "print('PolynomialFeatures Evaluation')\n",
    "print('Train r2_score:',r2_score(y_train,y_train_pred_lr))\n",
    "print('Test r2_score:',r2_score(y_test,y_test_pred_lr))\n",
    "print('---'*10)\n",
    "print('Train mean_squared_error:',mean_squared_error(y_train,y_train_pred_lr))\n",
    "print('Test mean_squared_error:',mean_squared_error(y_test,y_test_pred_lr))\n",
    "print('---'*10)\n",
    "print('Train mean_absolute_error:',mean_absolute_error(y_train,y_train_pred_lr))\n",
    "print('Test mean_absolute_error:',mean_absolute_error(y_test,y_test_pred_lr))\n",
    "print('---'*10)\n",
    "#3s"
   ]
  },
  {
   "cell_type": "markdown",
   "id": "4926043a",
   "metadata": {},
   "source": [
    "\n",
    "##### Lasso Regression (L1)"
   ]
  },
  {
   "cell_type": "code",
   "execution_count": 16,
   "id": "cd416a71",
   "metadata": {},
   "outputs": [
    {
     "name": "stdout",
     "output_type": "stream",
     "text": [
      "Lasso Regression Evaluation\n",
      "Train r2_score: 0.9456676211249159\n",
      "Test r2_score: 0.9481540635962711\n",
      "------------------------------\n",
      "Train MSE: 208.2877034611773\n",
      "Test MSE: 199.5640733258806\n",
      "------------------------------\n",
      "Train MAE: 5.036362934325149\n",
      "Test MAE: 4.880260739291318\n",
      "------------------------------\n"
     ]
    }
   ],
   "source": [
    "pipe_lasso = Pipeline(steps=[\n",
    "    ('preprocessor', preprocessor),\n",
    "    ('model', Lasso(alpha=0.1, random_state=42))\n",
    "])\n",
    "\n",
    "pipe_lasso.fit(X_train, y_train)\n",
    "\n",
    "y_train_pred_lasso = pipe_lasso.predict(X_train)\n",
    "y_test_pred_lasso = pipe_lasso.predict(X_test)\n",
    "\n",
    "print(\"Lasso Regression Evaluation\")\n",
    "print('Train r2_score:', r2_score(y_train, y_train_pred_lasso))\n",
    "print('Test r2_score:', r2_score(y_test, y_test_pred_lasso))\n",
    "print('---'*10)\n",
    "print('Train MSE:', mean_squared_error(y_train, y_train_pred_lasso))\n",
    "print('Test MSE:', mean_squared_error(y_test, y_test_pred_lasso))\n",
    "print('---'*10)\n",
    "print('Train MAE:', mean_absolute_error(y_train, y_train_pred_lasso))\n",
    "print('Test MAE:', mean_absolute_error(y_test, y_test_pred_lasso))\n",
    "print('---'*10)\n",
    "#4s"
   ]
  },
  {
   "cell_type": "markdown",
   "id": "e5f6b523",
   "metadata": {},
   "source": [
    "##### Ridge Regression (L2)"
   ]
  },
  {
   "cell_type": "code",
   "execution_count": 17,
   "id": "3fdb51df",
   "metadata": {},
   "outputs": [
    {
     "name": "stdout",
     "output_type": "stream",
     "text": [
      "Ridge Regression Evaluation\n",
      "Train r2_score: 0.9457120069337913\n",
      "Test r2_score: 0.9481903885285918\n",
      "------------------------------\n",
      "Train MSE: 208.1175467629368\n",
      "Test MSE: 199.42425231077206\n",
      "------------------------------\n",
      "Train MAE: 4.967631840440615\n",
      "Test MAE: 4.811246329309589\n",
      "------------------------------\n"
     ]
    }
   ],
   "source": [
    "pipe_ridge = Pipeline(steps=[\n",
    "    ('preprocessor', preprocessor),\n",
    "    ('model', Ridge(alpha=1.0, random_state=42))\n",
    "])\n",
    "\n",
    "pipe_ridge.fit(X_train, y_train)\n",
    "\n",
    "y_train_pred_ridge = pipe_ridge.predict(X_train)\n",
    "y_test_pred_ridge = pipe_ridge.predict(X_test)\n",
    "\n",
    "print(\"Ridge Regression Evaluation\")\n",
    "print('Train r2_score:', r2_score(y_train, y_train_pred_ridge))\n",
    "print('Test r2_score:', r2_score(y_test, y_test_pred_ridge))\n",
    "print('---'*10)\n",
    "print('Train MSE:', mean_squared_error(y_train, y_train_pred_ridge))\n",
    "print('Test MSE:', mean_squared_error(y_test, y_test_pred_ridge))\n",
    "print('---'*10)\n",
    "print('Train MAE:', mean_absolute_error(y_train, y_train_pred_ridge))\n",
    "print('Test MAE:', mean_absolute_error(y_test, y_test_pred_ridge))\n",
    "print('---'*10)\n",
    "#4s"
   ]
  },
  {
   "cell_type": "markdown",
   "id": "9c71da21",
   "metadata": {},
   "source": [
    "###### Elastic Net (L1 + L2)"
   ]
  },
  {
   "cell_type": "code",
   "execution_count": 18,
   "id": "bc8f6c21",
   "metadata": {},
   "outputs": [
    {
     "name": "stdout",
     "output_type": "stream",
     "text": [
      "Elastic Net Regression Evaluation\n",
      "Train r2_score: 0.790574548812681\n",
      "Test r2_score: 0.7921442520376601\n",
      "------------------------------\n",
      "Train MSE: 802.8499244330206\n",
      "Test MSE: 800.0731128578626\n",
      "------------------------------\n",
      "Train MAE: 23.464689506351117\n",
      "Test MAE: 23.422626567002936\n",
      "------------------------------\n"
     ]
    }
   ],
   "source": [
    "pipe_elastic = Pipeline(steps=[\n",
    "    ('preprocessor', preprocessor),\n",
    "    ('model', ElasticNet(alpha=0.1, l1_ratio=0.5, random_state=42))\n",
    "])\n",
    "\n",
    "pipe_elastic.fit(X_train, y_train)\n",
    "\n",
    "y_train_pred_elastic = pipe_elastic.predict(X_train)\n",
    "y_test_pred_elastic = pipe_elastic.predict(X_test)\n",
    "\n",
    "print(\"Elastic Net Regression Evaluation\")\n",
    "print('Train r2_score:', r2_score(y_train, y_train_pred_elastic))\n",
    "print('Test r2_score:', r2_score(y_test, y_test_pred_elastic))\n",
    "print('---'*10)\n",
    "print('Train MSE:', mean_squared_error(y_train, y_train_pred_elastic))\n",
    "print('Test MSE:', mean_squared_error(y_test, y_test_pred_elastic))\n",
    "print('---'*10)\n",
    "print('Train MAE:', mean_absolute_error(y_train, y_train_pred_elastic))\n",
    "print('Test MAE:', mean_absolute_error(y_test, y_test_pred_elastic))\n",
    "print('---'*10)\n",
    "#4s"
   ]
  },
  {
   "cell_type": "markdown",
   "id": "d402007e",
   "metadata": {},
   "source": [
    "## RandomForestRegressor"
   ]
  },
  {
   "cell_type": "code",
   "execution_count": 19,
   "id": "504a1cd8",
   "metadata": {},
   "outputs": [
    {
     "name": "stdout",
     "output_type": "stream",
     "text": [
      "RandomForestRegressor Evaluation\n",
      "Train r2_score: 0.9468890561222526\n",
      "Test r2_score: 0.9492270921938113\n",
      "------------------------------\n",
      "Train mean_squared_error: 203.60523058239343\n",
      "Test mean_squared_error: 195.43379865878288\n",
      "------------------------------\n",
      "Train mean_absolute_error: 4.767458900923363\n",
      "Test mean_absolute_error: 4.629087664099878\n",
      "------------------------------\n"
     ]
    }
   ],
   "source": [
    "pipe_rf = Pipeline(steps=[\n",
    "    ('preprocessor', preprocessor),\n",
    "    ('model', RandomForestRegressor(n_estimators=200,max_depth=10,max_features='sqrt', random_state=42))\n",
    "])\n",
    "\n",
    "pipe_rf.fit(X_train, y_train)\n",
    "\n",
    "y_train_pred_rf = pipe_rf.predict(X_train)\n",
    "y_test_pred_rf = pipe_rf.predict(X_test)\n",
    "\n",
    "print('RandomForestRegressor Evaluation')\n",
    "print('Train r2_score:',r2_score(y_train,y_train_pred_lr))\n",
    "print('Test r2_score:',r2_score(y_test,y_test_pred_lr))\n",
    "print('---'*10)\n",
    "print('Train mean_squared_error:',mean_squared_error(y_train,y_train_pred_lr))\n",
    "print('Test mean_squared_error:',mean_squared_error(y_test,y_test_pred_lr))\n",
    "print('---'*10)\n",
    "print('Train mean_absolute_error:',mean_absolute_error(y_train,y_train_pred_lr))\n",
    "print('Test mean_absolute_error:',mean_absolute_error(y_test,y_test_pred_lr))\n",
    "print('---'*10)\n",
    "#2m"
   ]
  },
  {
   "cell_type": "markdown",
   "id": "664e653d",
   "metadata": {},
   "source": [
    "## GradientBoostingRegressor"
   ]
  },
  {
   "cell_type": "code",
   "execution_count": 20,
   "id": "289fe203",
   "metadata": {},
   "outputs": [
    {
     "name": "stdout",
     "output_type": "stream",
     "text": [
      "GradientBoostingRegressor Evaluation\n",
      "Train r2_score: 0.9468890561222526\n",
      "Test r2_score: 0.9492270921938113\n",
      "------------------------------\n",
      "Train mean_squared_error: 203.60523058239343\n",
      "Test mean_squared_error: 195.43379865878288\n",
      "------------------------------\n",
      "Train mean_absolute_error: 4.767458900923363\n",
      "Test mean_absolute_error: 4.629087664099878\n",
      "------------------------------\n"
     ]
    }
   ],
   "source": [
    "pipe_gb = Pipeline(steps=[\n",
    "    ('preprocessor', preprocessor),\n",
    "    ('model', GradientBoostingRegressor(n_estimators=100, random_state=42))\n",
    "])\n",
    "\n",
    "pipe_gb.fit(X_train, y_train)\n",
    "\n",
    "y_train_pred_gb = pipe_gb.predict(X_train)\n",
    "y_test_pred_gb = pipe_gb.predict(X_test)\n",
    "\n",
    "print('GradientBoostingRegressor Evaluation')\n",
    "print('Train r2_score:',r2_score(y_train,y_train_pred_lr))\n",
    "print('Test r2_score:',r2_score(y_test,y_test_pred_lr))\n",
    "print('---'*10)\n",
    "print('Train mean_squared_error:',mean_squared_error(y_train,y_train_pred_lr))\n",
    "print('Test mean_squared_error:',mean_squared_error(y_test,y_test_pred_lr))\n",
    "print('---'*10)\n",
    "print('Train mean_absolute_error:',mean_absolute_error(y_train,y_train_pred_lr))\n",
    "print('Test mean_absolute_error:',mean_absolute_error(y_test,y_test_pred_lr))\n",
    "print('---'*10)\n",
    "#49s"
   ]
  },
  {
   "cell_type": "markdown",
   "id": "eecfe99f",
   "metadata": {},
   "source": [
    "## XGBRegressor"
   ]
  },
  {
   "cell_type": "code",
   "execution_count": 21,
   "id": "d6ad63ad",
   "metadata": {},
   "outputs": [
    {
     "name": "stdout",
     "output_type": "stream",
     "text": [
      "XGBRegressor Evaluation\n",
      "Train r2_score: 0.9468890561222526\n",
      "Test r2_score: 0.9492270921938113\n",
      "------------------------------\n",
      "Train mean_squared_error: 203.60523058239343\n",
      "Test mean_squared_error: 195.43379865878288\n",
      "------------------------------\n",
      "Train mean_absolute_error: 4.767458900923363\n",
      "Test mean_absolute_error: 4.629087664099878\n",
      "------------------------------\n"
     ]
    }
   ],
   "source": [
    "pipe_xgb = Pipeline(steps=[\n",
    "    ('preprocessor', preprocessor),\n",
    "    ('model', XGBRegressor(n_estimators=100, random_state=42, eval_metric='rmse'))\n",
    "])\n",
    "\n",
    "pipe_xgb.fit(X_train, y_train)\n",
    "\n",
    "y_train_pred_xgb = pipe_xgb.predict(X_train)\n",
    "y_test_pred_xgb = pipe_xgb.predict(X_test)\n",
    "\n",
    "print('XGBRegressor Evaluation')\n",
    "print('Train r2_score:',r2_score(y_train,y_train_pred_lr))\n",
    "print('Test r2_score:',r2_score(y_test,y_test_pred_lr))\n",
    "print('---'*10)\n",
    "print('Train mean_squared_error:',mean_squared_error(y_train,y_train_pred_lr))\n",
    "print('Test mean_squared_error:',mean_squared_error(y_test,y_test_pred_lr))\n",
    "print('---'*10)\n",
    "print('Train mean_absolute_error:',mean_absolute_error(y_train,y_train_pred_lr))\n",
    "print('Test mean_absolute_error:',mean_absolute_error(y_test,y_test_pred_lr))\n",
    "print('---'*10)\n",
    "# 2.2s"
   ]
  },
  {
   "cell_type": "markdown",
   "id": "364656c7",
   "metadata": {},
   "source": [
    "## SVR"
   ]
  },
  {
   "cell_type": "code",
   "execution_count": 22,
   "id": "26ca0706",
   "metadata": {},
   "outputs": [
    {
     "name": "stdout",
     "output_type": "stream",
     "text": [
      "SVR Evaluation\n",
      "Train r2_score: 0.9406527641303316\n",
      "Test r2_score: 0.9426389661201056\n",
      "------------------------------\n",
      "Train mean_squared_error: 227.51257577883655\n",
      "Test mean_squared_error: 220.7926477036734\n",
      "------------------------------\n",
      "Train mean_absolute_error: 5.950567762821795\n",
      "Test mean_absolute_error: 5.880245543456783\n",
      "------------------------------\n"
     ]
    }
   ],
   "source": [
    "from sklearn.metrics import r2_score, mean_squared_error, mean_absolute_error\n",
    "\n",
    "pipe_svr = Pipeline(steps=[\n",
    "    ('preprocessor', preprocessor),\n",
    "    ('model', SVR(kernel='rbf'))\n",
    "])\n",
    "\n",
    "# Train\n",
    "pipe_svr.fit(X_train, y_train)\n",
    "\n",
    "# Predictions\n",
    "y_train_pred_svr = pipe_svr.predict(X_train)\n",
    "y_test_pred_svr = pipe_svr.predict(X_test)\n",
    "\n",
    "# Evaluation\n",
    "print('SVR Evaluation')\n",
    "print('Train r2_score:', r2_score(y_train, y_train_pred_svr))\n",
    "print('Test r2_score:', r2_score(y_test, y_test_pred_svr))\n",
    "print('---'*10)\n",
    "print('Train mean_squared_error:', mean_squared_error(y_train, y_train_pred_svr))\n",
    "print('Test mean_squared_error:', mean_squared_error(y_test, y_test_pred_svr))\n",
    "print('---'*10)\n",
    "print('Train mean_absolute_error:', mean_absolute_error(y_train, y_train_pred_svr))\n",
    "print('Test mean_absolute_error:', mean_absolute_error(y_test, y_test_pred_svr))\n",
    "print('---'*10)\n"
   ]
  },
  {
   "cell_type": "code",
   "execution_count": 23,
   "id": "269c79a0",
   "metadata": {},
   "outputs": [],
   "source": [
    "import pickle\n",
    "pickle.dump(pipe_lr, open(\"pipe_lr.pkl\", \"wb\"))\n",
    "pickle.dump(pipe_lr_poly, open(\"pipe_lr_poly.pkl\", \"wb\"))\n",
    "pickle.dump(pipe_lasso, open(\"pipe_lasso.pkl\", \"wb\"))\n",
    "pickle.dump(pipe_ridge, open(\"pipe_ridge.pkl\", \"wb\"))\n",
    "pickle.dump(pipe_elastic, open(\"pipe_elastic.pkl\", \"wb\"))\n",
    "pickle.dump(pipe_rf, open(\"pipe_rf.pkl\", \"wb\"))\n",
    "pickle.dump(pipe_gb, open(\"pipe_gb.pkl\", \"wb\"))\n",
    "pickle.dump(pipe_xgb , open(\"pipe_xgb .pkl\", \"wb\"))\n",
    "pickle.dump(preprocessor , open(\"preprocessor .pkl\", \"wb\"))"
   ]
  },
  {
   "cell_type": "code",
   "execution_count": 24,
   "id": "56c9a14e",
   "metadata": {},
   "outputs": [],
   "source": [
    "pickle.dump(pipe_svr , open(\"pipe_svr .pkl\", \"wb\"))"
   ]
  }
 ],
 "metadata": {
  "kernelspec": {
   "display_name": ".venv",
   "language": "python",
   "name": "python3"
  },
  "language_info": {
   "codemirror_mode": {
    "name": "ipython",
    "version": 3
   },
   "file_extension": ".py",
   "mimetype": "text/x-python",
   "name": "python",
   "nbconvert_exporter": "python",
   "pygments_lexer": "ipython3",
   "version": "3.12.9"
  }
 },
 "nbformat": 4,
 "nbformat_minor": 5
}
